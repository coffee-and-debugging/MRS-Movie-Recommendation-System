{
 "cells": [
  {
   "cell_type": "code",
   "execution_count": 5,
   "metadata": {},
   "outputs": [
    {
     "ename": "NameError",
     "evalue": "name 'recommended_movies' is not defined",
     "output_type": "error",
     "traceback": [
      "\u001b[1;31m---------------------------------------------------------------------------\u001b[0m",
      "\u001b[1;31mNameError\u001b[0m                                 Traceback (most recent call last)",
      "Cell \u001b[1;32mIn[5], line 30\u001b[0m\n\u001b[0;32m     24\u001b[0m     \u001b[38;5;28;01mreturn\u001b[39;00m recommended_titles\n\u001b[0;32m     29\u001b[0m recommend(\u001b[38;5;124m\"\u001b[39m\u001b[38;5;124mInception\u001b[39m\u001b[38;5;124m\"\u001b[39m)\n\u001b[1;32m---> 30\u001b[0m \u001b[38;5;28;01mfor\u001b[39;00m movie_title \u001b[38;5;129;01min\u001b[39;00m recommended_movies:\n\u001b[0;32m     31\u001b[0m     \u001b[38;5;28mprint\u001b[39m(movie_title)\n\u001b[0;32m     33\u001b[0m pickle\u001b[38;5;241m.\u001b[39mdump(df, \u001b[38;5;28mopen\u001b[39m(\u001b[38;5;124m'\u001b[39m\u001b[38;5;124mmovie_list.pkl\u001b[39m\u001b[38;5;124m'\u001b[39m, \u001b[38;5;124m'\u001b[39m\u001b[38;5;124mwb\u001b[39m\u001b[38;5;124m'\u001b[39m))\n",
      "\u001b[1;31mNameError\u001b[0m: name 'recommended_movies' is not defined"
     ]
    }
   ],
   "source": [
    "import pandas as pd\n",
    "import warnings\n",
    "warnings.filterwarnings('ignore')\n",
    "from sklearn.feature_extraction.text import CountVectorizer\n",
    "from sklearn.metrics.pairwise import cosine_similarity\n",
    "import pickle\n",
    "\n",
    "\n",
    "df = pd.read_csv(\"TMDB_movie_dataset_v11.csv\")\n",
    "df = df[['id', 'title', 'overview', 'genres', 'keywords']]\n",
    "df['keywords'] = df['overview'] + df['genres']\n",
    "df.drop(columns=['overview', 'genres'], inplace=True)\n",
    "df.dropna(subset=['title', 'keywords'], inplace=True)\n",
    "df = df[(df['title'] != '') & (df['keywords'] != '')]\n",
    "\n",
    "vectorizer = CountVectorizer(max_features=10000, stop_words='english')\n",
    "vector_matrix = vectorizer.fit_transform(df['keywords'].values.astype('U')).toarray()\n",
    "similarity_matrix = cosine_similarity(vector_matrix)\n",
    "\n",
    "def recommend(movie_title):\n",
    "    idx = df[df['title'] == movie_title].index[0]\n",
    "    similar_movies = sorted(((i, similarity_matrix[idx][i]) for i in range(len(similarity_matrix[idx]))), key=lambda x: x[1], reverse=True)[1:6]\n",
    "    recommended_titles = [df.iloc[movie[0]].title for movie in similar_movies]\n",
    "    return recommended_titles\n",
    "\n",
    "\n",
    "\n",
    "\n",
    "recommended_movies= recommend(\"Inception\")\n",
    "for movie_title in recommended_movies:\n",
    "    print(movie_title)\n",
    "\n",
    "pickle.dump(df, open('movie_list.pkl', 'wb'))\n",
    "pickle.dump(similarity_matrix, open('similarity.pkl', 'wb'))\n"
   ]
  }
 ],
 "metadata": {
  "anaconda-cloud": {},
  "kernelspec": {
   "display_name": "Python 3 (ipykernel)",
   "language": "python",
   "name": "python3"
  },
  "language_info": {
   "codemirror_mode": {
    "name": "ipython",
    "version": 3
   },
   "file_extension": ".py",
   "mimetype": "text/x-python",
   "name": "python",
   "nbconvert_exporter": "python",
   "pygments_lexer": "ipython3",
   "version": "3.11.5"
  }
 },
 "nbformat": 4,
 "nbformat_minor": 4
}
